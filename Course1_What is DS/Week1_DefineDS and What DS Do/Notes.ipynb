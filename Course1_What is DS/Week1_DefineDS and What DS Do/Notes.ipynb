{
 "cells": [
  {
   "cell_type": "markdown",
   "metadata": {},
   "source": [
    "- Data science is the study of large quantities of data, which can reveal insights that help organizations make strategic choices.\n",
    "- There are  many paths to a career in data science; most, but not all, involve a little math, a little science, and a lot of curiosity about data.\n",
    "- New data scientists need to be curious, judgemental and argumentative."
   ]
  }
 ],
 "metadata": {
  "kernelspec": {
   "display_name": "Python [conda env:root] *",
   "language": "python",
   "name": "conda-root-py"
  },
  "language_info": {
   "codemirror_mode": {
    "name": "ipython",
    "version": 3
   },
   "file_extension": ".py",
   "mimetype": "text/x-python",
   "name": "python",
   "nbconvert_exporter": "python",
   "pygments_lexer": "ipython3",
   "version": "3.8.5"
  }
 },
 "nbformat": 4,
 "nbformat_minor": 4
}
